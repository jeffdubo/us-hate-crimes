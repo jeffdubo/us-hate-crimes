{
 "cells": [
  {
   "cell_type": "code",
   "execution_count": 1,
   "id": "4058c61c",
   "metadata": {},
   "outputs": [],
   "source": [
    "# Hate Crimes in the US\n",
    "# Flask App\n",
    "\n",
    "# Load dependencies\n",
    "from flask import Flask, jsonify, render_template\n",
    "from sqlalchemy import create_engine, text, func, extract, inspect, Integer\n",
    "from sqlalchemy.ext.automap import automap_base\n",
    "from sqlalchemy.orm import Session\n",
    "from sqlalchemy.sql.expression import cast\n",
    "\n",
    "# Get database information from config file\n",
    "# Note: config.py must be created locally and is not stored in Github\n",
    "from config import db_username, db_password, db_host, db_port, db_name"
   ]
  },
  {
   "cell_type": "code",
   "execution_count": 2,
   "id": "e467d6cb",
   "metadata": {},
   "outputs": [],
   "source": [
    "# Create a SQLAlchemy database engine\n",
    "db_url = f'postgresql://{db_username}:{db_password}@{db_host}:{db_port}/{db_name}'\n",
    "engine = create_engine(db_url)"
   ]
  },
  {
   "cell_type": "code",
   "execution_count": 3,
   "id": "552576e7",
   "metadata": {},
   "outputs": [
    {
     "name": "stdout",
     "output_type": "stream",
     "text": [
      "Connected to database and session initiated\n"
     ]
    }
   ],
   "source": [
    "# Reflect an existing database\n",
    "Base = automap_base()\n",
    "Base.prepare(autoload_with=engine)\n",
    "\n",
    "session = Session(engine)\n",
    "\n",
    "print('Connected to database and session initiated')"
   ]
  },
  {
   "cell_type": "code",
   "execution_count": null,
   "id": "5250c977",
   "metadata": {},
   "outputs": [],
   "source": [
    "# Inspector testing\n",
    "inspector = inspect(engine)\n",
    "\n",
    "inspector.get_table_names()\n",
    "\n",
    "display(inspector.get_columns('bias'))\n",
    "display(inspector.get_pk_constraint('bias'))\n",
    "display(inspector.get_pk_constraint('incident_bias'))"
   ]
  },
  {
   "cell_type": "code",
   "execution_count": 33,
   "id": "0eeae92b",
   "metadata": {},
   "outputs": [],
   "source": [
    "# Define variables for related tables\n",
    "I = Base.classes.incident\n",
    "S = Base.classes.state\n",
    "J = Base.classes.jurisdiction\n",
    "E = Base.classes.race\n",
    "B = Base.classes.bias\n",
    "IB = Base.classes.incident_bias\n",
    "O = Base.classes.offense\n",
    "IO = Base.classes.incident_offense\n",
    "VT = Base.classes.victim_type\n",
    "IVT = Base.classes.incident_victim_type\n",
    "L = Base.classes.location\n",
    "IL = Base.classes.incident_location\n",
    "C = Base.classes.census_data"
   ]
  },
  {
   "cell_type": "code",
   "execution_count": 52,
   "id": "7d00eb06",
   "metadata": {},
   "outputs": [
    {
     "data": {
      "text/plain": [
       "[{'state': 'Alaska'},\n",
       " {'state': 'Alabama'},\n",
       " {'state': 'Arkansas'},\n",
       " {'state': 'Arizona'}]"
      ]
     },
     "execution_count": 52,
     "metadata": {},
     "output_type": "execute_result"
    }
   ],
   "source": [
    "# Create state list for dropdowns\n",
    "state_results = session.query(S.state).all()\n",
    "\n",
    "state_list = [{'state': row.state} for row in state_results] \n",
    "\n",
    "# Alternate code to include all \n",
    "# state_list = [{'state': 'All'}]\n",
    "# state_list.append([{'state': row.state} for row in state_results])\n",
    "\n",
    "state_list[:4]"
   ]
  },
  {
   "cell_type": "code",
   "execution_count": 53,
   "id": "274c85d9",
   "metadata": {},
   "outputs": [
    {
     "data": {
      "text/plain": [
       "[{'year': 2009}, {'year': 2010}, {'year': 2011}, {'year': 2012}]"
      ]
     },
     "execution_count": 53,
     "metadata": {},
     "output_type": "execute_result"
    }
   ],
   "source": [
    "# Create year list for dropdowns\n",
    "year_results = session.query(\n",
    "    cast(extract('year', I.incident_date), Integer).label('year')   \n",
    ").group_by(\n",
    "    extract('year', I.incident_date)\n",
    ").order_by(\n",
    "    extract('year', I.incident_date).asc()\n",
    ").all()\n",
    "\n",
    "year_list = [{'year': row.year} for row in year_results]\n",
    "\n",
    "year_list[:4]"
   ]
  },
  {
   "cell_type": "code",
   "execution_count": 46,
   "id": "50dbd266",
   "metadata": {},
   "outputs": [],
   "source": [
    "# Route to get data with incidents by year\n",
    "# @.app.route('/annual-totals')\n",
    "\n",
    "def get_data_annual_totals():\n",
    "    try:\n",
    "        \n",
    "        # Query database\n",
    "        results = session.query(\n",
    "            cast(extract('year', I.incident_date), Integer).label('year'),\n",
    "            func.count(I.incident_id).label('incidents')\n",
    "        ).group_by(\n",
    "            extract('year', I.incident_date)\n",
    "        ).order_by(\n",
    "            extract('year', I.incident_date).asc()\n",
    "        ).all()\n",
    "\n",
    "        # Convert query result to a list of dictionaries\n",
    "        keys = ['year', 'incidents']\n",
    "        data_list = [dict(zip(keys, row)) for row in results]\n",
    "\n",
    "        # Create dictionary to store list\n",
    "        dataToReturn = {'data': data_list}\n",
    "        \n",
    "        # return jsonify(dataToReturn)\n",
    "        return dataToReturn   \n",
    "    \n",
    "    except Exception as e:\n",
    "        print(\"Error accessing the table:\", str(e))\n",
    "        # return jsonify({\"error\": \"Table access failed\"}), 500"
   ]
  },
  {
   "cell_type": "code",
   "execution_count": 47,
   "id": "37c67bb3",
   "metadata": {},
   "outputs": [
    {
     "data": {
      "text/plain": [
       "[{'year': 2009, 'incidents': 6612},\n",
       " {'year': 2010, 'incidents': 6628},\n",
       " {'year': 2011, 'incidents': 6299},\n",
       " {'year': 2012, 'incidents': 6592}]"
      ]
     },
     "execution_count": 47,
     "metadata": {},
     "output_type": "execute_result"
    }
   ],
   "source": [
    "# Preview data from list for notebook only\n",
    "data = get_data_annual_totals()\n",
    "\n",
    "data['data'][:4]"
   ]
  },
  {
   "cell_type": "code",
   "execution_count": 50,
   "id": "717ba906",
   "metadata": {},
   "outputs": [],
   "source": [
    "# Route to get data with incidents by year, state and bias category\n",
    "# @.app.route('/bias')\n",
    "\n",
    "def get_data_bias():\n",
    "    try:\n",
    "        \n",
    "        # Query database\n",
    "        results = session.query(\n",
    "            cast(extract('year', I.incident_date), Integer).label('year'),\n",
    "            S.state,\n",
    "            B.bias_category,\n",
    "            func.count(I.incident_id).label('incidents')\n",
    "        ).join(\n",
    "            S, S.state_abbr == I.state_abbr \n",
    "        ).join(\n",
    "            IB, IB.incident_id == I.incident_id\n",
    "        ).join(\n",
    "            B, B.bias_id == IB.bias_id \n",
    "        ).group_by(\n",
    "            extract('year', I.incident_date),\n",
    "            S.state,\n",
    "            B.bias_category\n",
    "        ).order_by(\n",
    "            extract('year', I.incident_date).asc()\n",
    "        ).all()\n",
    "\n",
    "        # Convert query result to a list of dictionaries\n",
    "        data_list = [{'year': row.year, 'state': row.state, 'bias_category': row.bias_category,\n",
    "              'incidents': row.incidents} for row in results]\n",
    "\n",
    "        dataToReturn = {'data': data_list, 'state': state_list}\n",
    "        \n",
    "        # return jsonify(dataToReturn)\n",
    "        return dataToReturn   \n",
    "    \n",
    "    except Exception as e:\n",
    "        print(\"Error accessing the table:\", str(e))\n",
    "        # return jsonify({\"error\": \"Table access failed\"}), 500\n"
   ]
  },
  {
   "cell_type": "code",
   "execution_count": 51,
   "id": "2e8e191b",
   "metadata": {},
   "outputs": [
    {
     "data": {
      "text/plain": [
       "[{'year': 2009,\n",
       "  'state': 'Alabama',\n",
       "  'bias_category': 'Race, Ethnicity or Ancestry',\n",
       "  'incidents': 6},\n",
       " {'year': 2009,\n",
       "  'state': 'Alabama',\n",
       "  'bias_category': 'Religion',\n",
       "  'incidents': 1},\n",
       " {'year': 2009,\n",
       "  'state': 'Alabama',\n",
       "  'bias_category': 'Sexual Orientation',\n",
       "  'incidents': 2},\n",
       " {'year': 2009,\n",
       "  'state': 'Alaska',\n",
       "  'bias_category': 'Race, Ethnicity or Ancestry',\n",
       "  'incidents': 7}]"
      ]
     },
     "execution_count": 51,
     "metadata": {},
     "output_type": "execute_result"
    }
   ],
   "source": [
    "# Preview data from list for notebook only\n",
    "data = get_data_bias()\n",
    "\n",
    "data['data'][:4]"
   ]
  },
  {
   "cell_type": "code",
   "execution_count": 54,
   "id": "95a8eb9e",
   "metadata": {
    "scrolled": false
   },
   "outputs": [],
   "source": [
    "# Route to get data with population and incident rates by year and state\n",
    "# @.app.route('/pop-inc-rates')\n",
    "\n",
    "def get_data_pop_rates():\n",
    "    try:\n",
    "\n",
    "        results = session.query(\n",
    "            cast(extract('year', I.incident_date), Integer).label('year'),\n",
    "            S.state,\n",
    "            func.sum(C.population).label('population'),\n",
    "            func.count(I.incident_id).label('incidents'), \n",
    "        ).join(\n",
    "            C, C.state_abbr == S.state_abbr\n",
    "        ).join(\n",
    "            I, I.state_abbr == S.state_abbr\n",
    "        ).filter(\n",
    "            C.year == extract('year', I.incident_date) \n",
    "        ).group_by(\n",
    "            extract('year', I.incident_date),\n",
    "            S.state\n",
    "        ).all()\n",
    "\n",
    "        data_list = [{'year': row.year, 'state': row.state, 'incidents': row.incidents, 'population': row.population,\n",
    "              'incident_rate': round(row.incidents/row.population * 10000000, 2)} for row in results]\n",
    "\n",
    "        dataToReturn = {'data': data_list, 'state': state_list}\n",
    "        \n",
    "        # return jsonify(dataToReturn)\n",
    "        return dataToReturn   \n",
    "    \n",
    "    except Exception as e:\n",
    "        print(\"Error accessing the table:\", str(e))\n",
    "        # return jsonify({\"error\": \"Table access failed\"}), 500"
   ]
  },
  {
   "cell_type": "code",
   "execution_count": 55,
   "id": "93c5ff13",
   "metadata": {
    "scrolled": true
   },
   "outputs": [
    {
     "data": {
      "text/plain": [
       "[{'year': 2011,\n",
       "  'state': 'South Carolina',\n",
       "  'incidents': 744,\n",
       "  'population': 558304916,\n",
       "  'incident_rate': 13.33},\n",
       " {'year': 2020,\n",
       "  'state': 'Georgia',\n",
       "  'incidents': 1392,\n",
       "  'population': 2368713040,\n",
       "  'incident_rate': 5.88},\n",
       " {'year': 2014,\n",
       "  'state': 'Maryland',\n",
       "  'incidents': 96,\n",
       "  'population': 91020912,\n",
       "  'incident_rate': 10.55},\n",
       " {'year': 2019,\n",
       "  'state': 'Idaho',\n",
       "  'incidents': 126,\n",
       "  'population': 34819554,\n",
       "  'incident_rate': 36.19}]"
      ]
     },
     "execution_count": 55,
     "metadata": {},
     "output_type": "execute_result"
    }
   ],
   "source": [
    "# Preview data from list for notebook only\n",
    "data = get_data_pop_rates()\n",
    "\n",
    "data['data'][:4]"
   ]
  },
  {
   "cell_type": "code",
   "execution_count": 67,
   "id": "2a451581",
   "metadata": {},
   "outputs": [],
   "source": [
    "# Route to get data with population and incident rates by year and state\n",
    "# @.app.route('/pop-inc-rates')\n",
    "\n",
    "def get_data_offenses():\n",
    "    try:\n",
    "\n",
    "        results = session.query(\n",
    "            cast(extract('year', I.incident_date), Integer).label('year'),\n",
    "            S.state,\n",
    "            O.offense,\n",
    "            func.count(I.incident_id).label('incidents'),  \n",
    "        ).join(\n",
    "            I, I.state_abbr == S.state_abbr\n",
    "        ).join(\n",
    "            IO, IO.incident_id == I.incident_id\n",
    "        ).join(\n",
    "            O, O.offense_id == IO.offense_id\n",
    "        ).group_by(\n",
    "            extract('year', I.incident_date),\n",
    "            S.state,\n",
    "            O.offense\n",
    "        ).all()\n",
    "\n",
    "        data_list = [{'year': row.year, 'state': row.state, 'offense': row.offense, 'incidents': row.incidents\n",
    "                     } for row in results]\n",
    "\n",
    "        dataToReturn = {'data': data_list, 'state': state_list, 'year': year_list}\n",
    "        \n",
    "        # return jsonify(dataToReturn)\n",
    "        return dataToReturn   \n",
    "    \n",
    "    except Exception as e:\n",
    "        print(\"Error accessing the table:\", str(e))\n",
    "        # return jsonify({\"error\": \"Table access failed\"}), 500"
   ]
  },
  {
   "cell_type": "code",
   "execution_count": 68,
   "id": "51d0c2f2",
   "metadata": {},
   "outputs": [
    {
     "data": {
      "text/plain": [
       "[{'year': 2009, 'state': 'Alabama', 'offense': 'Arson', 'incidents': 1},\n",
       " {'year': 2009,\n",
       "  'state': 'Alabama',\n",
       "  'offense': 'Destruction/Damage/Vandalism of Property',\n",
       "  'incidents': 4},\n",
       " {'year': 2009, 'state': 'Alabama', 'offense': 'Intimidation', 'incidents': 4},\n",
       " {'year': 2009,\n",
       "  'state': 'Alaska',\n",
       "  'offense': 'Aggravated Assault',\n",
       "  'incidents': 2}]"
      ]
     },
     "execution_count": 68,
     "metadata": {},
     "output_type": "execute_result"
    }
   ],
   "source": [
    "# Preview data from list for notebook only\n",
    "data = get_data_offenses()\n",
    "\n",
    "data['data'][:4]"
   ]
  }
 ],
 "metadata": {
  "kernelspec": {
   "display_name": "Python 3 (ipykernel)",
   "language": "python",
   "name": "python3"
  },
  "language_info": {
   "codemirror_mode": {
    "name": "ipython",
    "version": 3
   },
   "file_extension": ".py",
   "mimetype": "text/x-python",
   "name": "python",
   "nbconvert_exporter": "python",
   "pygments_lexer": "ipython3",
   "version": "3.10.13"
  }
 },
 "nbformat": 4,
 "nbformat_minor": 5
}
